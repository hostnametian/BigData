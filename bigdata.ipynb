{
 "cells": [
  {
   "cell_type": "code",
   "execution_count": 1,
   "metadata": {
    "pycharm": {
     "name": "#%%\n"
    }
   },
   "outputs": [],
   "source": [
    "import numpy as np\n",
    "import mmap\n",
    "import warnings\n",
    "import time\n",
    "from concurrent.futures import ThreadPoolExecutor, Future\n",
    "import concurrent.futures\n",
    "warnings.filterwarnings('ignore')"
   ]
  },
  {
   "cell_type": "code",
   "execution_count": 2,
   "outputs": [],
   "source": [
    "length_numbers = 2**32\n",
    "file_name = \"Numbers.txt\"\n",
    "amount = 2*1024*1024*256\n",
    "with open(\"Numbers.txt\",\"wb\") as f:\n",
    "   array = np.random.randint(2, length_numbers, size=amount, dtype=np.dtype('uint32').newbyteorder('B')).byteswap()\n",
    "   f.write(array.tobytes())\n",
    "   f.close()"
   ],
   "metadata": {
    "collapsed": false,
    "pycharm": {
     "name": "#%%\n"
    }
   }
  },
  {
   "cell_type": "code",
   "execution_count": 3,
   "outputs": [],
   "source": [
    "def get_time(func):\n",
    "    start_time = time.clock()\n",
    "    func()\n",
    "    final_time = time.clock() - start_time\n",
    "    print(str(final_time) + \" seconds\")\n",
    "\n"
   ],
   "metadata": {
    "collapsed": false,
    "pycharm": {
     "name": "#%%\n"
    }
   }
  },
  {
   "cell_type": "code",
   "execution_count": 4,
   "outputs": [],
   "source": [
    "def println (Sum_number,Max_number,Min_number):\n",
    "    print(f'Sum_number: \\t{Sum_number}')\n",
    "    print(f'Max_number: \\t{Max_number}')\n",
    "    print(f'Min_number: \\t{Min_number}')\n"
   ],
   "metadata": {
    "collapsed": false,
    "pycharm": {
     "name": "#%%\n"
    }
   }
  },
  {
   "cell_type": "code",
   "execution_count": 5,
   "outputs": [
    {
     "name": "stdout",
     "output_type": "stream",
     "text": [
      "536870912\n",
      "[  17772286 3649248015  453614775 ... 1328523497  835213379 2898581224]\n",
      "Sum_number: \t1152951861529982463\n",
      "Max_number: \t4294967291\n",
      "Min_number: \t9\n"
     ]
    }
   ],
   "source": [
    "## Normal mode\n",
    "def Normal_find():\n",
    "    with open(\"Numbers.txt\", \"r+b\") as f:\n",
    "        data = f.read()\n",
    "        array = np.frombuffer(data, dtype=np.dtype('uint32').newbyteorder('B'))\n",
    "        print(len(array))\n",
    "        print(array)\n",
    "        Max_number = 0\n",
    "        Min_number = 2**32\n",
    "        Sum_number = 0\n",
    "\n",
    "        for n in array:\n",
    "            Sum_number += n\n",
    "            if n > Max_number:\n",
    "                Max_number = n\n",
    "            if n < Min_number:\n",
    "                Min_number = n\n",
    "    f.close()\n",
    "    println(Sum_number,Max_number,Min_number)\n",
    "Normal_find()"
   ],
   "metadata": {
    "collapsed": false,
    "pycharm": {
     "name": "#%%\n"
    }
   }
  },
  {
   "cell_type": "code",
   "execution_count": 6,
   "outputs": [
    {
     "name": "stdout",
     "output_type": "stream",
     "text": [
      "1073741824\n",
      "[  17772286 3649248015  453614775 ...          0          0          0]\n",
      "Sum_number: \t1152951861529982463\n",
      "Max_number: \t4294967291\n",
      "Min_number: \t0\n"
     ]
    }
   ],
   "source": [
    "## Mmap mode\n",
    "def mmap_find():\n",
    "    with open(\"Numbers.txt\", \"r+b\") as f:\n",
    "        with mmap.mmap(f.fileno(), length=length_numbers, offset=0, access=mmap.ACCESS_WRITE) as mm:\n",
    "            array = np.frombuffer(mm, dtype=np.dtype('uint32').newbyteorder('B'))\n",
    "            print(len(array))\n",
    "            print(array)\n",
    "            println(sum(array), array.max(), array.min())\n",
    "            f.close()\n",
    "\n",
    "mmap_find()"
   ],
   "metadata": {
    "collapsed": false,
    "pycharm": {
     "name": "#%%\n"
    }
   }
  },
  {
   "cell_type": "code",
   "execution_count": 7,
   "outputs": [
    {
     "name": "stdout",
     "output_type": "stream",
     "text": [
      "1073741824\n",
      "[  17772286 3649248015  453614775 ...          0          0          0]\n",
      "Sum_number: \t587656991947886997\n",
      "Max_number: \t4294967291\n",
      "Min_number: \t0\n"
     ]
    }
   ],
   "source": [
    "#Multithreading and mapping mode\n",
    "sum_number = 0\n",
    "max_number = 0\n",
    "min_number= 2**32\n",
    "\n",
    "def search(array):\n",
    "    global Sum_number\n",
    "    global Max_number\n",
    "    global Min_number\n",
    "\n",
    "    for number in array:\n",
    "        Sum_number += number\n",
    "        if number > Max_number:\n",
    "            Max_number = number\n",
    "        if number < Min_number:\n",
    "            Min_number = number\n",
    "\n",
    "def mmp_thread_future_find():\n",
    "    chunk = length_numbers // 12\n",
    "\n",
    "    global Sum_number\n",
    "    Sum_number = 0\n",
    "    global Max_number\n",
    "    Max_number = 0\n",
    "    global Min_number\n",
    "    Min_number = 2**32\n",
    "\n",
    "    with open(file_name, 'r+b') as f:\n",
    "        data = mmap.mmap(f.fileno(), length=length_numbers, offset=0, access=mmap.ACCESS_READ)\n",
    "        array = np.frombuffer(data, dtype=np.dtype('uint32').newbyteorder('B'))\n",
    "        print(len(array))\n",
    "        print(array)\n",
    "        with concurrent.futures.ThreadPoolExecutor(max_workers=16) as executor:\n",
    "            arrays = [array[0: chunk], array[chunk: 2*chunk], array[2*chunk: 3*chunk], array[3*chunk:4*chunk],\n",
    "                      array[4*chunk: 5*chunk], array[5*chunk: 6*chunk], array[6*chunk: 7*chunk],\n",
    "                      array[7*chunk: 8*chunk],array[8*chunk: 9*chunk], array[9*chunk: 10*chunk],\n",
    "                      array[10*chunk: 11*chunk],array[11*chunk: 12*chunk],array[12*chunk:]]\n",
    "            future = {executor.submit(search, ar): ar for ar in arrays}\n",
    "\n",
    "    println(Sum_number, Max_number, Min_number)\n",
    "\n",
    "mmp_thread_future_find()"
   ],
   "metadata": {
    "collapsed": false,
    "pycharm": {
     "name": "#%%\n"
    }
   }
  },
  {
   "cell_type": "code",
   "execution_count": 8,
   "outputs": [
    {
     "name": "stdout",
     "output_type": "stream",
     "text": [
      "Normal mode running time\n",
      "1073741824\n",
      "[  17772286 3649248015  453614775 ...          0          0          0]\n",
      "Sum_number: \t1152951861529982463\n",
      "Max_number: \t4294967291\n",
      "Min_number: \t0\n",
      "283.96853469999996 seconds\n",
      "Mmap mode running time\n",
      "1073741824\n",
      "[  17772286 3649248015  453614775 ...          0          0          0]\n",
      "Sum_number: \t1152951861529982463\n",
      "Max_number: \t4294967291\n",
      "Min_number: \t0\n",
      "201.45101149999994 seconds\n",
      "Multithreading and mapping mode runtime\n",
      "1073741824\n",
      "[  17772286 3649248015  453614775 ...          0          0          0]\n",
      "Sum_number: \t618813832142090230\n",
      "Max_number: \t4294967291\n",
      "Min_number: \t0\n",
      "293.7919187 seconds\n"
     ]
    }
   ],
   "source": [
    "print(\"Normal mode running time\")\n",
    "get_time(Normal_find)\n",
    "\n",
    "print(\"Mmap mode running time\")\n",
    "get_time(mmap_find)\n",
    "\n",
    "print(\"Multithreading and mapping mode runtime\")\n",
    "get_time(mmp_thread_future_find)\n"
   ],
   "metadata": {
    "collapsed": false,
    "pycharm": {
     "name": "#%%\n"
    }
   }
  }
 ],
 "metadata": {
  "kernelspec": {
   "display_name": "Python 3",
   "language": "python",
   "name": "python3"
  },
  "language_info": {
   "codemirror_mode": {
    "name": "ipython",
    "version": 3
   },
   "file_extension": ".py",
   "mimetype": "text/x-python",
   "name": "python",
   "nbconvert_exporter": "python",
   "pygments_lexer": "ipython3",
   "version": "3.7.4"
  }
 },
 "nbformat": 4,
 "nbformat_minor": 1
}